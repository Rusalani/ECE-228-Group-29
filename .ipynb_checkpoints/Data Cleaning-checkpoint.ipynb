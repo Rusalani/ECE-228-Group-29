{
 "cells": [
  {
   "cell_type": "markdown",
   "id": "985cf8f1",
   "metadata": {},
   "source": [
    "# Imports"
   ]
  },
  {
   "cell_type": "code",
   "execution_count": 1,
   "id": "dd8e5e08",
   "metadata": {},
   "outputs": [
    {
     "data": {
      "text/plain": [
       "True"
      ]
     },
     "execution_count": 1,
     "metadata": {},
     "output_type": "execute_result"
    }
   ],
   "source": [
    "import pandas as pd\n",
    "import os\n",
    "from dotenv import load_dotenv\n",
    "import numpy as np\n",
    "import json\n",
    "\n",
    "load_dotenv()"
   ]
  },
  {
   "cell_type": "markdown",
   "id": "14bcba7f",
   "metadata": {},
   "source": [
    "# Cleaning Data Logic"
   ]
  },
  {
   "cell_type": "code",
   "execution_count": 95,
   "id": "64b30dd8",
   "metadata": {},
   "outputs": [],
   "source": [
    "def clean_data():\n",
    "    cwd = os.getcwd()\n",
    "    wildfire_data_url = cwd + r\"\\Data\\California_Fire_Incidents.csv\"\n",
    "\n",
    "    columns = ['AcresBurned', 'Counties', 'Started']\n",
    "\n",
    "    wildfire_data = pd.read_csv(wildfire_data_url)\n",
    "    wildfire_data = wildfire_data[columns]\n",
    "\n",
    "    # Drop Nan Values (Should only be 3 in Acres Burned)\n",
    "    wildfire_data = wildfire_data.dropna()\n",
    "\n",
    "    # Drop Unwanted Counties Datapoints < 4\n",
    "    county_dataCount = [wildfire_data[wildfire_data[\"Counties\"] == county].shape[0] for county in wildfire_data[\"Counties\"].unique()]\n",
    "    county_data = dict(zip(counties, county_dataCount))\n",
    "\n",
    "    counties_toDrop = [county for county, count in county_data.items() if count < 4]\n",
    "    counties_toDrop.append(\"Nevada\")\n",
    "    wildfire_data = wildfire_data[~wildfire_data[\"Counties\"].isin(counties_toDrop)]\n",
    "\n",
    "    # Cleanup Date\n",
    "    wildfire_data[\"Started_Date\"] = wildfire_data[\"Started\"].apply(lambda x: x[:10])\n",
    "    wildfire_data[\"Started_Hour\"] = wildfire_data[\"Started\"].apply(lambda x: x[11:13])\n",
    "\n",
    "    # Add CA to Count\n",
    "    wildfire_data[\"Counties\"] = wildfire_data[\"Counties\"].apply(lambda x: x + \", CA\")\n",
    "\n",
    "    # Save Cleaned Data\n",
    "    cleaned_wildfire_data_url = cwd + r\"\\Cleaned Data\\Cleaned_California_Fire_Incidents.csv\"\n",
    "    wildfire_data.to_csv(cleaned_wildfire_data_url, index=False)\n",
    "\n",
    "    return wildfire_data"
   ]
  },
  {
   "cell_type": "markdown",
   "id": "478d9f85",
   "metadata": {},
   "source": [
    "# Testing a Single API Call"
   ]
  },
  {
   "cell_type": "code",
   "execution_count": 12,
   "id": "9b9962be",
   "metadata": {},
   "outputs": [],
   "source": [
    "result = get_weather_data(request_args = (\"2013-08-17\", \"2013-08-17\", \"Ventura, CA\"))"
   ]
  },
  {
   "cell_type": "code",
   "execution_count": 48,
   "id": "5586fd0d",
   "metadata": {},
   "outputs": [
    {
     "name": "stdout",
     "output_type": "stream",
     "text": [
      "<Response [200]>\n",
      "200\n",
      "True\n",
      "[15.16, 0.84, 0.85, 100.45, 1.37, 0.43]\n",
      "24\n",
      "<class 'list'>\n"
     ]
    }
   ],
   "source": [
    "print(result)\n",
    "print(result.status_code)\n",
    "print(result.status_code == 200)\n",
    "print(json.loads(result.json()[\"data\"])[\"data\"][11][4:])\n",
    "print(len(json.loads(result.json()[\"data\"])[\"data\"]))\n",
    "print(type(json.loads(result.json()[\"data\"])[\"data\"]))"
   ]
  },
  {
   "cell_type": "markdown",
   "id": "e8a50c12",
   "metadata": {},
   "source": [
    "# Testing Adding API Data"
   ]
  },
  {
   "cell_type": "code",
   "execution_count": 90,
   "id": "affd4a56",
   "metadata": {},
   "outputs": [],
   "source": [
    "def addWeatherData(row):\n",
    "    print(row.name)\n",
    "    # API Call\n",
    "    result = get_weather_data(request_args = (row[\"Started_Date\"], row[\"Started_Date\"], row[\"Counties\"]))\n",
    "    if result.status_code != 200:\n",
    "        return pd.Series([np.nan, np.nan, np.nan, np.nan, np.nan, np.nan])\n",
    "    # Get Started Hour Weather Data\n",
    "    result = json.loads(result.json()[\"data\"])[\"data\"][int(row[\"Started_Hour\"])][4:]\n",
    "    return pd.Series(result)"
   ]
  },
  {
   "cell_type": "code",
   "execution_count": 86,
   "id": "85847395",
   "metadata": {},
   "outputs": [
    {
     "name": "stdout",
     "output_type": "stream",
     "text": [
      "   AcresBurned         Counties               Started Started_Date  \\\n",
      "0     257314.0     Tuolumne, CA  2013-08-17T15:25:00Z   2013-08-17   \n",
      "1      30274.0  Los Angeles, CA  2013-05-30T15:28:00Z   2013-05-30   \n",
      "2      27531.0    Riverside, CA  2013-07-15T13:43:00Z   2013-07-15   \n",
      "3      27440.0       Placer, CA  2013-08-10T16:30:00Z   2013-08-10   \n",
      "4      24251.0      Ventura, CA  2013-05-02T07:01:00Z   2013-05-02   \n",
      "\n",
      "  Started_Hour  \n",
      "0           15  \n",
      "1           15  \n",
      "2           13  \n",
      "3           16  \n",
      "4           07  \n",
      "(5, 5)\n",
      "Tuolumne, CA 2013-08-17 15\n",
      "Los Angeles, CA 2013-05-30 15\n",
      "Riverside, CA 2013-07-15 13\n",
      "Placer, CA 2013-08-10 16\n",
      "Ventura, CA 2013-05-02 07\n"
     ]
    },
    {
     "data": {
      "text/html": [
       "<div>\n",
       "<style scoped>\n",
       "    .dataframe tbody tr th:only-of-type {\n",
       "        vertical-align: middle;\n",
       "    }\n",
       "\n",
       "    .dataframe tbody tr th {\n",
       "        vertical-align: top;\n",
       "    }\n",
       "\n",
       "    .dataframe thead th {\n",
       "        text-align: right;\n",
       "    }\n",
       "</style>\n",
       "<table border=\"1\" class=\"dataframe\">\n",
       "  <thead>\n",
       "    <tr style=\"text-align: right;\">\n",
       "      <th></th>\n",
       "      <th>AcresBurned</th>\n",
       "      <th>Counties</th>\n",
       "      <th>Started</th>\n",
       "      <th>Started_Date</th>\n",
       "      <th>Started_Hour</th>\n",
       "      <th>temperature</th>\n",
       "      <th>relative_humidity</th>\n",
       "      <th>wind_speed</th>\n",
       "      <th>wind_direction</th>\n",
       "      <th>total_precipitation</th>\n",
       "      <th>volumetric_soil_water_layer_1</th>\n",
       "    </tr>\n",
       "  </thead>\n",
       "  <tbody>\n",
       "    <tr>\n",
       "      <th>0</th>\n",
       "      <td>257314.0</td>\n",
       "      <td>Tuolumne, CA</td>\n",
       "      <td>2013-08-17T15:25:00Z</td>\n",
       "      <td>2013-08-17</td>\n",
       "      <td>15</td>\n",
       "      <td>21.28</td>\n",
       "      <td>0.29</td>\n",
       "      <td>1.30</td>\n",
       "      <td>58.58</td>\n",
       "      <td>0.00</td>\n",
       "      <td>0.13</td>\n",
       "    </tr>\n",
       "    <tr>\n",
       "      <th>1</th>\n",
       "      <td>30274.0</td>\n",
       "      <td>Los Angeles, CA</td>\n",
       "      <td>2013-05-30T15:28:00Z</td>\n",
       "      <td>2013-05-30</td>\n",
       "      <td>15</td>\n",
       "      <td>19.81</td>\n",
       "      <td>0.56</td>\n",
       "      <td>1.34</td>\n",
       "      <td>174.30</td>\n",
       "      <td>0.00</td>\n",
       "      <td>0.07</td>\n",
       "    </tr>\n",
       "    <tr>\n",
       "      <th>2</th>\n",
       "      <td>27531.0</td>\n",
       "      <td>Riverside, CA</td>\n",
       "      <td>2013-07-15T13:43:00Z</td>\n",
       "      <td>2013-07-15</td>\n",
       "      <td>13</td>\n",
       "      <td>22.62</td>\n",
       "      <td>0.62</td>\n",
       "      <td>2.77</td>\n",
       "      <td>256.01</td>\n",
       "      <td>0.00</td>\n",
       "      <td>0.10</td>\n",
       "    </tr>\n",
       "    <tr>\n",
       "      <th>3</th>\n",
       "      <td>27440.0</td>\n",
       "      <td>Placer, CA</td>\n",
       "      <td>2013-08-10T16:30:00Z</td>\n",
       "      <td>2013-08-10</td>\n",
       "      <td>16</td>\n",
       "      <td>19.13</td>\n",
       "      <td>0.30</td>\n",
       "      <td>1.26</td>\n",
       "      <td>204.91</td>\n",
       "      <td>0.00</td>\n",
       "      <td>0.22</td>\n",
       "    </tr>\n",
       "    <tr>\n",
       "      <th>4</th>\n",
       "      <td>24251.0</td>\n",
       "      <td>Ventura, CA</td>\n",
       "      <td>2013-05-02T07:01:00Z</td>\n",
       "      <td>2013-05-02</td>\n",
       "      <td>07</td>\n",
       "      <td>16.40</td>\n",
       "      <td>0.94</td>\n",
       "      <td>0.19</td>\n",
       "      <td>81.05</td>\n",
       "      <td>2.41</td>\n",
       "      <td>0.45</td>\n",
       "    </tr>\n",
       "  </tbody>\n",
       "</table>\n",
       "</div>"
      ],
      "text/plain": [
       "   AcresBurned         Counties               Started Started_Date  \\\n",
       "0     257314.0     Tuolumne, CA  2013-08-17T15:25:00Z   2013-08-17   \n",
       "1      30274.0  Los Angeles, CA  2013-05-30T15:28:00Z   2013-05-30   \n",
       "2      27531.0    Riverside, CA  2013-07-15T13:43:00Z   2013-07-15   \n",
       "3      27440.0       Placer, CA  2013-08-10T16:30:00Z   2013-08-10   \n",
       "4      24251.0      Ventura, CA  2013-05-02T07:01:00Z   2013-05-02   \n",
       "\n",
       "  Started_Hour  temperature  relative_humidity  wind_speed  wind_direction  \\\n",
       "0           15        21.28               0.29        1.30           58.58   \n",
       "1           15        19.81               0.56        1.34          174.30   \n",
       "2           13        22.62               0.62        2.77          256.01   \n",
       "3           16        19.13               0.30        1.26          204.91   \n",
       "4           07        16.40               0.94        0.19           81.05   \n",
       "\n",
       "   total_precipitation  volumetric_soil_water_layer_1  \n",
       "0                 0.00                           0.13  \n",
       "1                 0.00                           0.07  \n",
       "2                 0.00                           0.10  \n",
       "3                 0.00                           0.22  \n",
       "4                 2.41                           0.45  "
      ]
     },
     "execution_count": 86,
     "metadata": {},
     "output_type": "execute_result"
    }
   ],
   "source": [
    "test = wildfire_data.head(5).copy()\n",
    "print(test)\n",
    "print(test.shape)\n",
    "test[['temperature', 'relative_humidity', 'wind_speed', 'wind_direction', \n",
    "                'total_precipitation', 'volumetric_soil_water_layer_1']] = test.apply(addWeatherData, axis=1)\n",
    "test.head()"
   ]
  },
  {
   "cell_type": "code",
   "execution_count": 91,
   "id": "76865656",
   "metadata": {},
   "outputs": [
    {
     "name": "stdout",
     "output_type": "stream",
     "text": [
      "   AcresBurned         Counties               Started Started_Date  \\\n",
      "0     257314.0     Tuolumne, CA  2013-08-17T15:25:00Z   2013-08-17   \n",
      "1      30274.0  Los Angeles, CA  2013-05-30T15:28:00Z   2013-05-30   \n",
      "\n",
      "  Started_Hour  \n",
      "0           15  \n",
      "1           15  \n",
      "(2, 5)\n",
      "0\n",
      "Tuolumne, CA 2013-08-17 15\n",
      "1\n",
      "Los Angeles, CA 2013-05-30 15\n"
     ]
    },
    {
     "data": {
      "text/html": [
       "<div>\n",
       "<style scoped>\n",
       "    .dataframe tbody tr th:only-of-type {\n",
       "        vertical-align: middle;\n",
       "    }\n",
       "\n",
       "    .dataframe tbody tr th {\n",
       "        vertical-align: top;\n",
       "    }\n",
       "\n",
       "    .dataframe thead th {\n",
       "        text-align: right;\n",
       "    }\n",
       "</style>\n",
       "<table border=\"1\" class=\"dataframe\">\n",
       "  <thead>\n",
       "    <tr style=\"text-align: right;\">\n",
       "      <th></th>\n",
       "      <th>AcresBurned</th>\n",
       "      <th>Counties</th>\n",
       "      <th>Started</th>\n",
       "      <th>Started_Date</th>\n",
       "      <th>Started_Hour</th>\n",
       "      <th>temperature</th>\n",
       "      <th>relative_humidity</th>\n",
       "      <th>wind_speed</th>\n",
       "      <th>wind_direction</th>\n",
       "      <th>total_precipitation</th>\n",
       "      <th>volumetric_soil_water_layer_1</th>\n",
       "    </tr>\n",
       "  </thead>\n",
       "  <tbody>\n",
       "    <tr>\n",
       "      <th>0</th>\n",
       "      <td>257314.0</td>\n",
       "      <td>Tuolumne, CA</td>\n",
       "      <td>2013-08-17T15:25:00Z</td>\n",
       "      <td>2013-08-17</td>\n",
       "      <td>15</td>\n",
       "      <td>21.28</td>\n",
       "      <td>0.29</td>\n",
       "      <td>1.30</td>\n",
       "      <td>58.58</td>\n",
       "      <td>0.0</td>\n",
       "      <td>0.13</td>\n",
       "    </tr>\n",
       "    <tr>\n",
       "      <th>1</th>\n",
       "      <td>30274.0</td>\n",
       "      <td>Los Angeles, CA</td>\n",
       "      <td>2013-05-30T15:28:00Z</td>\n",
       "      <td>2013-05-30</td>\n",
       "      <td>15</td>\n",
       "      <td>19.81</td>\n",
       "      <td>0.56</td>\n",
       "      <td>1.34</td>\n",
       "      <td>174.30</td>\n",
       "      <td>0.0</td>\n",
       "      <td>0.07</td>\n",
       "    </tr>\n",
       "  </tbody>\n",
       "</table>\n",
       "</div>"
      ],
      "text/plain": [
       "   AcresBurned         Counties               Started Started_Date  \\\n",
       "0     257314.0     Tuolumne, CA  2013-08-17T15:25:00Z   2013-08-17   \n",
       "1      30274.0  Los Angeles, CA  2013-05-30T15:28:00Z   2013-05-30   \n",
       "\n",
       "  Started_Hour  temperature  relative_humidity  wind_speed  wind_direction  \\\n",
       "0           15        21.28               0.29        1.30           58.58   \n",
       "1           15        19.81               0.56        1.34          174.30   \n",
       "\n",
       "   total_precipitation  volumetric_soil_water_layer_1  \n",
       "0                  0.0                           0.13  \n",
       "1                  0.0                           0.07  "
      ]
     },
     "execution_count": 91,
     "metadata": {},
     "output_type": "execute_result"
    }
   ],
   "source": [
    "test1 = wildfire_data.head(2).copy()\n",
    "print(test1)\n",
    "print(test1.shape)\n",
    "test1[['temperature', 'relative_humidity', 'wind_speed', 'wind_direction', \n",
    "                'total_precipitation', 'volumetric_soil_water_layer_1']] = test1.apply(addWeatherData, axis=1)\n",
    "test1.head()"
   ]
  },
  {
   "cell_type": "markdown",
   "id": "b32d9386",
   "metadata": {},
   "source": [
    "# Testing If Counties Valid\n",
    "Did manual Testing for Counties that appeared before Fresno"
   ]
  },
  {
   "cell_type": "code",
   "execution_count": 33,
   "id": "02e83e67",
   "metadata": {},
   "outputs": [
    {
     "name": "stdout",
     "output_type": "stream",
     "text": [
      "Fresno, CA OK\n",
      "Siskiyou, CA OK\n",
      "Humboldt, CA OK\n",
      "Tehama, CA OK\n",
      "Shasta, CA OK\n",
      "San Diego, CA OK\n",
      "Kern, CA OK\n",
      "Sonoma, CA OK\n",
      "Contra Costa, CA OK\n",
      "Butte, CA OK\n",
      "Tulare, CA OK\n",
      "Santa Barbara, CA OK\n",
      "Mariposa, CA OK\n",
      "Monterey, CA OK\n",
      "El Dorado, CA OK\n",
      "San Bernardino, CA OK\n",
      "Plumas, CA OK\n",
      "Modoc, CA OK\n",
      "San Luis Obispo, CA OK\n",
      "Madera, CA OK\n",
      "Inyo, CA OK\n",
      "Napa, CA OK\n",
      "San Benito, CA OK\n",
      "San Joaquin, CA OK\n",
      "Lake, CA OK\n",
      "Alameda, CA OK\n",
      "Glenn, CA OK\n",
      "Yolo, CA OK\n",
      "Sacramento, CA OK\n",
      "Stanislaus, CA OK\n",
      "Solano, CA OK\n",
      "Merced, CA OK\n",
      "Mendocino, CA OK\n",
      "Lassen, CA OK\n",
      "Amador, CA OK\n",
      "Yuba, CA OK\n",
      "Santa Clara, CA OK\n",
      "Calaveras, CA OK\n",
      "Orange, CA OK\n",
      "Colusa, CA OK\n",
      "Trinity, CA OK\n",
      "Del Norte, CA OK\n",
      "Mono, CA OK\n",
      "Kings, CA OK\n",
      "Santa Cruz, CA OK\n",
      "Marin, CA OK\n"
     ]
    }
   ],
   "source": [
    "counties_temp = ['Fresno',\n",
    " 'Siskiyou', 'Humboldt', 'Tehama', 'Shasta', 'San Diego', 'Kern', 'Sonoma',\n",
    " 'Contra Costa', 'Butte', 'Tulare', 'Santa Barbara', 'Mariposa', 'Monterey',\n",
    " 'El Dorado', 'San Bernardino', 'Plumas', 'Modoc', 'San Luis Obispo', 'Madera',\n",
    " 'Inyo', 'Napa', 'San Benito', 'San Joaquin', 'Lake', 'Alameda', 'Glenn', 'Yolo',\n",
    " 'Sacramento', 'Stanislaus', 'Solano', 'Merced', 'Mendocino', 'Lassen', 'Amador',\n",
    " 'Yuba', 'Santa Clara', 'Calaveras', 'Orange', 'Colusa', 'Trinity', 'Del Norte',\n",
    " 'Mono', 'Kings', 'Santa Cruz', 'Marin']\n",
    "for county in counties_temp:\n",
    "    print(f\"{county}, CA\", end=\" \")\n",
    "    request_result = get_weather_data(request_args = (\"2013-08-17\", \"2013-08-17\", \"Ventura, CA\"))\n",
    "    print(\"OK\" if request_result.status_code == 200 else \"NOT OK!!\")"
   ]
  },
  {
   "cell_type": "markdown",
   "id": "fe37ffd2",
   "metadata": {},
   "source": [
    "# API Call Wrapper Function"
   ]
  },
  {
   "cell_type": "code",
   "execution_count": 92,
   "id": "48bba812",
   "metadata": {},
   "outputs": [],
   "source": [
    "import requests\n",
    "\n",
    "def get_weather_data(\n",
    "    param_args=['temperature', 'relative_humidity', 'wind_speed', 'wind_direction', \n",
    "                'total_precipitation', 'volumetric_soil_water_layer_1'],\n",
    "    request_args = (\"start\", \"end\", \"location\")\n",
    "):\n",
    "    api_url = \"https://api.oikolab.com/weather\"\n",
    "    start, end, location = request_args\n",
    "    \n",
    "    request_params = {\n",
    "        \"param\": param_args,\n",
    "        \"start\": start,\n",
    "        \"end\": end,\n",
    "        \"location\": location,\n",
    "        \"api-key\": os.getenv('API_KEY_sdfds'),\n",
    "    }\n",
    "    result = requests.get(\n",
    "        api_url,\n",
    "        params=request_params\n",
    "    )\n",
    "    \n",
    "    return result"
   ]
  },
  {
   "cell_type": "markdown",
   "id": "5f6e00f7",
   "metadata": {},
   "source": [
    "# Running\n",
    "## Imports"
   ]
  },
  {
   "cell_type": "code",
   "execution_count": 94,
   "id": "f8e6f30b",
   "metadata": {},
   "outputs": [
    {
     "data": {
      "text/plain": [
       "True"
      ]
     },
     "execution_count": 94,
     "metadata": {},
     "output_type": "execute_result"
    }
   ],
   "source": [
    "import pandas as pd\n",
    "import os\n",
    "from dotenv import load_dotenv\n",
    "import numpy as np\n",
    "import json\n",
    "\n",
    "load_dotenv()"
   ]
  },
  {
   "cell_type": "markdown",
   "id": "47fafc1b",
   "metadata": {},
   "source": [
    "## Clean Data"
   ]
  },
  {
   "cell_type": "code",
   "execution_count": 97,
   "id": "2187ec61",
   "metadata": {},
   "outputs": [
    {
     "name": "stdout",
     "output_type": "stream",
     "text": [
      "(1602, 5)\n"
     ]
    },
    {
     "data": {
      "text/html": [
       "<div>\n",
       "<style scoped>\n",
       "    .dataframe tbody tr th:only-of-type {\n",
       "        vertical-align: middle;\n",
       "    }\n",
       "\n",
       "    .dataframe tbody tr th {\n",
       "        vertical-align: top;\n",
       "    }\n",
       "\n",
       "    .dataframe thead th {\n",
       "        text-align: right;\n",
       "    }\n",
       "</style>\n",
       "<table border=\"1\" class=\"dataframe\">\n",
       "  <thead>\n",
       "    <tr style=\"text-align: right;\">\n",
       "      <th></th>\n",
       "      <th>AcresBurned</th>\n",
       "      <th>Counties</th>\n",
       "      <th>Started</th>\n",
       "      <th>Started_Date</th>\n",
       "      <th>Started_Hour</th>\n",
       "    </tr>\n",
       "  </thead>\n",
       "  <tbody>\n",
       "    <tr>\n",
       "      <th>0</th>\n",
       "      <td>257314.0</td>\n",
       "      <td>Tuolumne, CA</td>\n",
       "      <td>2013-08-17T15:25:00Z</td>\n",
       "      <td>2013-08-17</td>\n",
       "      <td>15</td>\n",
       "    </tr>\n",
       "    <tr>\n",
       "      <th>1</th>\n",
       "      <td>30274.0</td>\n",
       "      <td>Los Angeles, CA</td>\n",
       "      <td>2013-05-30T15:28:00Z</td>\n",
       "      <td>2013-05-30</td>\n",
       "      <td>15</td>\n",
       "    </tr>\n",
       "    <tr>\n",
       "      <th>2</th>\n",
       "      <td>27531.0</td>\n",
       "      <td>Riverside, CA</td>\n",
       "      <td>2013-07-15T13:43:00Z</td>\n",
       "      <td>2013-07-15</td>\n",
       "      <td>13</td>\n",
       "    </tr>\n",
       "    <tr>\n",
       "      <th>3</th>\n",
       "      <td>27440.0</td>\n",
       "      <td>Placer, CA</td>\n",
       "      <td>2013-08-10T16:30:00Z</td>\n",
       "      <td>2013-08-10</td>\n",
       "      <td>16</td>\n",
       "    </tr>\n",
       "    <tr>\n",
       "      <th>4</th>\n",
       "      <td>24251.0</td>\n",
       "      <td>Ventura, CA</td>\n",
       "      <td>2013-05-02T07:01:00Z</td>\n",
       "      <td>2013-05-02</td>\n",
       "      <td>07</td>\n",
       "    </tr>\n",
       "  </tbody>\n",
       "</table>\n",
       "</div>"
      ],
      "text/plain": [
       "   AcresBurned         Counties               Started Started_Date  \\\n",
       "0     257314.0     Tuolumne, CA  2013-08-17T15:25:00Z   2013-08-17   \n",
       "1      30274.0  Los Angeles, CA  2013-05-30T15:28:00Z   2013-05-30   \n",
       "2      27531.0    Riverside, CA  2013-07-15T13:43:00Z   2013-07-15   \n",
       "3      27440.0       Placer, CA  2013-08-10T16:30:00Z   2013-08-10   \n",
       "4      24251.0      Ventura, CA  2013-05-02T07:01:00Z   2013-05-02   \n",
       "\n",
       "  Started_Hour  \n",
       "0           15  \n",
       "1           15  \n",
       "2           13  \n",
       "3           16  \n",
       "4           07  "
      ]
     },
     "execution_count": 97,
     "metadata": {},
     "output_type": "execute_result"
    }
   ],
   "source": [
    "wildfire_data = clean_data()\n",
    "\n",
    "print(wildfire_data.shape)\n",
    "wildfire_data.head()"
   ]
  },
  {
   "cell_type": "code",
   "execution_count": null,
   "id": "2a618827",
   "metadata": {},
   "outputs": [],
   "source": []
  },
  {
   "cell_type": "code",
   "execution_count": null,
   "id": "65e08d5e",
   "metadata": {},
   "outputs": [],
   "source": []
  },
  {
   "cell_type": "code",
   "execution_count": null,
   "id": "92a39dbb",
   "metadata": {},
   "outputs": [],
   "source": []
  }
 ],
 "metadata": {
  "kernelspec": {
   "display_name": "Python 3 (ipykernel)",
   "language": "python",
   "name": "python3"
  },
  "language_info": {
   "codemirror_mode": {
    "name": "ipython",
    "version": 3
   },
   "file_extension": ".py",
   "mimetype": "text/x-python",
   "name": "python",
   "nbconvert_exporter": "python",
   "pygments_lexer": "ipython3",
   "version": "3.9.7"
  }
 },
 "nbformat": 4,
 "nbformat_minor": 5
}
