{
 "cells": [
  {
   "cell_type": "code",
   "execution_count": 1,
   "id": "dd8e5e08",
   "metadata": {},
   "outputs": [
    {
     "data": {
      "text/plain": [
       "True"
      ]
     },
     "execution_count": 1,
     "metadata": {},
     "output_type": "execute_result"
    }
   ],
   "source": [
    "import pandas as pd\n",
    "import os\n",
    "from dotenv import load_dotenv\n",
    "\n",
    "load_dotenv()"
   ]
  },
  {
   "cell_type": "code",
   "execution_count": 19,
   "id": "64b30dd8",
   "metadata": {},
   "outputs": [
    {
     "name": "stdout",
     "output_type": "stream",
     "text": [
      "['Tuolumne' 'Los Angeles' 'Riverside' 'Placer' 'Ventura' 'Fresno'\n",
      " 'Siskiyou' 'Humboldt' 'Tehama' 'Shasta' 'San Diego' 'Kern' 'Sonoma'\n",
      " 'Contra Costa' 'Butte' 'Tulare' 'Santa Barbara' 'Mariposa' 'Monterey'\n",
      " 'El Dorado' 'San Bernardino' 'Plumas' 'Modoc' 'San Luis Obispo' 'Madera'\n",
      " 'Inyo' 'Napa' 'San Benito' 'San Joaquin' 'Lake' 'Alameda' 'Glenn' 'Yolo'\n",
      " 'Sacramento' 'Stanislaus' 'Solano' 'Merced' 'Mendocino' 'Lassen' 'Amador'\n",
      " 'Yuba' 'Nevada' 'Santa Clara' 'Calaveras' 'Orange' 'Colusa' 'Trinity'\n",
      " 'Del Norte' 'Mono' 'Kings' 'Santa Cruz' 'Marin']\n",
      "52\n"
     ]
    }
   ],
   "source": [
    "cwd = os.getcwd()\n",
    "wildfire_data_url = cwd + r\"\\Data\\California_Fire_Incidents.csv\"\n",
    "\n",
    "columns = ['AcresBurned', 'Counties', 'Started']\n",
    "\n",
    "wildfire_data = pd.read_csv(wildfire_data_url)\n",
    "wildfire_data = wildfire_data[columns]\n",
    "\n",
    "# Drop Nan Values (Should only be 3 in Acres Burned)\n",
    "wildfire_data = wildfire_data.dropna()\n",
    "\n",
    "# Drop Unwanted Counties Datapoints < 4\n",
    "counties = wildfire_data[\"Counties\"].unique()\n",
    "county_dataCount = [wildfire_data[wildfire_data[\"Counties\"] == county].shape[0] for county in wildfire_data[\"Counties\"].unique()]\n",
    "county_data = dict(zip(counties, county_dataCount))\n",
    "\n",
    "counties_toDrop = [county for county, count in county_data.items() if count < 4]\n",
    "wildfire_data = wildfire_data[~wildfire_data[\"Counties\"].isin(counties_toDrop)]\n",
    "\n",
    "# Cleanup Date\n",
    "wildfire_data[\"Started_Date\"] = wildfire_data[\"Started\"].apply(lambda x: x[:10])\n",
    "wildfire_data[\"Started_Hour\"] = wildfire_data[\"Started\"].apply(lambda x: x[11:13])\n",
    "\n",
    "# Save Cleaned Data\n",
    "cleaned_wildfire_data_url = cwd + r\"\\Cleaned Data\\Cleaned_California_Fire_Incidents.csv\"\n",
    "wildfire_data.to_csv(cleaned_wildfire_data_url, index=False)\n",
    "\n",
    "wildfire_data.head()\n",
    "print(wildfire_data[\"Counties\"].unique())\n",
    "print(len(wildfire_data[\"Counties\"].unique()))"
   ]
  },
  {
   "cell_type": "code",
   "execution_count": 17,
   "id": "9b9962be",
   "metadata": {},
   "outputs": [],
   "source": [
    "result = get_weather_data(request_args = (\"2013-08-17\", \"2013-08-17\", \"Tuolumne, CA\"))"
   ]
  },
  {
   "cell_type": "code",
   "execution_count": 18,
   "id": "5586fd0d",
   "metadata": {},
   "outputs": [
    {
     "name": "stdout",
     "output_type": "stream",
     "text": [
      "<Response [200]>\n",
      "200\n",
      "{'attributes': {'processing_time': 4.48, 'n_parameter_months': 1, 'gfs_reference_time': '2022-04-20 12 UTC', 'next_gfs_update': 'in 1.0 hours (approx)', 'source': 'ERA5 (2018) from Copernicus Climate Data Store (CDS) and GFS v16 (Mar 2021) from National Centers for Environmental Prediction (NCEP)', 'notes': 'GFS forecast data is updated every 6 hours and ERA5/ERA5T reanalysis data is updated every 24 hours.'}, 'data': '{\"columns\":[\"coordinates (lat,lon)\",\"model (name)\",\"model elevation (surface)\",\"utc_offset (hrs)\",\"temperature (degC)\",\"relative_humidity (0-1)\",\"wind_speed (m\\\\/s)\",\"wind_direction (deg)\",\"10m_wind_gust (m\\\\/s)\",\"total_precipitation (mm of water equivalent)\",\"volumetric_soil_water_layer_1 (0-1)\"],\"index\":[1376697600,1376701200,1376704800,1376708400,1376712000,1376715600,1376719200,1376722800,1376726400,1376730000,1376733600,1376737200,1376740800,1376744400,1376748000,1376751600,1376755200,1376758800,1376762400,1376766000,1376769600,1376773200,1376776800,1376780400],\"data\":[[\"(37.9608, -120.2374)\",\"era5\",907.85,-8.0,32.28,0.14,2.93,276.85,8.55,0.0,0.13],[\"(37.9608, -120.2374)\",\"era5\",907.85,-8.0,31.52,0.15,2.95,285.61,7.81,0.0,0.13],[\"(37.9608, -120.2374)\",\"era5\",907.85,-8.0,29.91,0.17,2.75,292.6,6.46,0.0,0.13],[\"(37.9608, -120.2374)\",\"era5\",907.85,-8.0,25.43,0.3,2.2,312.07,4.4,0.0,0.13],[\"(37.9608, -120.2374)\",\"era5\",907.85,-8.0,23.42,0.33,1.62,348.82,3.35,0.0,0.13],[\"(37.9608, -120.2374)\",\"era5\",907.85,-8.0,20.91,0.38,1.2,18.15,2.98,0.0,0.13],[\"(37.9608, -120.2374)\",\"era5\",907.85,-8.0,19.87,0.37,1.41,40.08,3.69,0.0,0.13],[\"(37.9608, -120.2374)\",\"era5\",907.85,-8.0,18.24,0.38,1.59,52.43,4.36,0.0,0.13],[\"(37.9608, -120.2374)\",\"era5\",907.85,-8.0,17.25,0.42,1.34,54.31,4.0,0.0,0.13],[\"(37.9608, -120.2374)\",\"era5\",907.85,-8.0,15.87,0.43,1.21,54.07,4.07,0.0,0.13],[\"(37.9608, -120.2374)\",\"era5\",907.85,-8.0,15.55,0.41,2.05,59.88,4.14,0.0,0.13],[\"(37.9608, -120.2374)\",\"era5\",907.85,-8.0,15.4,0.42,1.53,59.13,4.32,0.0,0.13],[\"(37.9608, -120.2374)\",\"era5\",907.85,-8.0,15.24,0.42,0.72,53.38,4.63,0.0,0.13],[\"(37.9608, -120.2374)\",\"era5\",907.85,-8.0,14.95,0.42,1.36,55.37,5.14,0.0,0.13],[\"(37.9608, -120.2374)\",\"era5\",907.85,-8.0,15.35,0.43,1.43,56.54,5.04,0.0,0.13],[\"(37.9608, -120.2374)\",\"era5\",907.85,-8.0,21.28,0.29,1.3,58.58,3.95,0.0,0.13],[\"(37.9608, -120.2374)\",\"era5\",907.85,-8.0,27.4,0.16,0.4,286.01,3.2,0.0,0.13],[\"(37.9608, -120.2374)\",\"era5\",907.85,-8.0,29.64,0.15,1.28,266.38,5.9,0.0,0.13],[\"(37.9608, -120.2374)\",\"era5\",907.85,-8.0,30.68,0.13,2.12,259.82,7.99,0.0,0.13],[\"(37.9608, -120.2374)\",\"era5\",907.85,-8.0,30.32,0.15,2.98,259.98,9.75,0.0,0.13],[\"(37.9608, -120.2374)\",\"era5\",907.85,-8.0,30.45,0.17,3.4,262.83,10.59,0.0,0.13],[\"(37.9608, -120.2374)\",\"era5\",907.85,-8.0,31.3,0.11,3.66,266.88,11.31,0.0,0.13],[\"(37.9608, -120.2374)\",\"era5\",907.85,-8.0,30.72,0.17,3.93,280.08,10.79,0.0,0.13],[\"(37.9608, -120.2374)\",\"era5\",907.85,-8.0,30.54,0.18,3.61,293.27,9.4,0.01,0.13]]}'}\n",
      "<class 'dict'>\n"
     ]
    }
   ],
   "source": [
    "print(result)\n",
    "print(result.status_code)\n",
    "print(result.json())\n",
    "print(type(result.json()))"
   ]
  },
  {
   "cell_type": "code",
   "execution_count": null,
   "id": "81112725",
   "metadata": {},
   "outputs": [],
   "source": [
    "[ 23.42, 0.33, 1.62, 348.82, 3.35, 0.0, 0.13]"
   ]
  },
  {
   "cell_type": "code",
   "execution_count": 16,
   "id": "48bba812",
   "metadata": {},
   "outputs": [],
   "source": [
    "import requests\n",
    "\n",
    "def get_weather_data(\n",
    "    param_args=['temperature', 'relative_humidity', 'wind_speed', 'wind_direction', \n",
    "                'total_precipitation', 'volumetric_soil_water_layer_1'],\n",
    "    request_args = (\"start\", \"end\", \"location\")\n",
    "):\n",
    "    api_url = \"https://api.oikolab.com/weather\"\n",
    "    start, end, location = request_args\n",
    "    \n",
    "    request_params = {\n",
    "        \"param\": param_args,\n",
    "        \"start\": start,\n",
    "        \"end\": end,\n",
    "        \"location\": location,\n",
    "        \"api-key\": os.getenv('API_KEYasdfasdfasdf'),\n",
    "    }\n",
    "    result = requests.get(\n",
    "        api_url,\n",
    "        params=request_params\n",
    "    )\n",
    "    \n",
    "    return result"
   ]
  },
  {
   "cell_type": "code",
   "execution_count": null,
   "id": "2db21a62",
   "metadata": {},
   "outputs": [],
   "source": []
  }
 ],
 "metadata": {
  "kernelspec": {
   "display_name": "Python 3 (ipykernel)",
   "language": "python",
   "name": "python3"
  },
  "language_info": {
   "codemirror_mode": {
    "name": "ipython",
    "version": 3
   },
   "file_extension": ".py",
   "mimetype": "text/x-python",
   "name": "python",
   "nbconvert_exporter": "python",
   "pygments_lexer": "ipython3",
   "version": "3.9.7"
  }
 },
 "nbformat": 4,
 "nbformat_minor": 5
}
