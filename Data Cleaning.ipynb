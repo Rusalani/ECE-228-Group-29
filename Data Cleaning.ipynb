{
 "cells": [
  {
   "cell_type": "code",
   "execution_count": 49,
   "id": "dd8e5e08",
   "metadata": {},
   "outputs": [
    {
     "data": {
      "text/plain": [
       "True"
      ]
     },
     "execution_count": 49,
     "metadata": {},
     "output_type": "execute_result"
    }
   ],
   "source": [
    "import pandas as pd\n",
    "import os\n",
    "from dotenv import load_dotenv\n",
    "\n",
    "load_dotenv()"
   ]
  },
  {
   "cell_type": "code",
   "execution_count": 35,
   "id": "64b30dd8",
   "metadata": {},
   "outputs": [
    {
     "data": {
      "text/html": [
       "<div>\n",
       "<style scoped>\n",
       "    .dataframe tbody tr th:only-of-type {\n",
       "        vertical-align: middle;\n",
       "    }\n",
       "\n",
       "    .dataframe tbody tr th {\n",
       "        vertical-align: top;\n",
       "    }\n",
       "\n",
       "    .dataframe thead th {\n",
       "        text-align: right;\n",
       "    }\n",
       "</style>\n",
       "<table border=\"1\" class=\"dataframe\">\n",
       "  <thead>\n",
       "    <tr style=\"text-align: right;\">\n",
       "      <th></th>\n",
       "      <th>AcresBurned</th>\n",
       "      <th>Counties</th>\n",
       "      <th>Latitude</th>\n",
       "      <th>Longitude</th>\n",
       "      <th>Started</th>\n",
       "      <th>Started_Date</th>\n",
       "      <th>Started_Hour</th>\n",
       "    </tr>\n",
       "  </thead>\n",
       "  <tbody>\n",
       "    <tr>\n",
       "      <th>0</th>\n",
       "      <td>257314.0</td>\n",
       "      <td>Tuolumne</td>\n",
       "      <td>37.857000</td>\n",
       "      <td>-120.086000</td>\n",
       "      <td>2013-08-17T15:25:00Z</td>\n",
       "      <td>2013-08-17</td>\n",
       "      <td>15</td>\n",
       "    </tr>\n",
       "    <tr>\n",
       "      <th>1</th>\n",
       "      <td>30274.0</td>\n",
       "      <td>Los Angeles</td>\n",
       "      <td>34.585595</td>\n",
       "      <td>-118.423176</td>\n",
       "      <td>2013-05-30T15:28:00Z</td>\n",
       "      <td>2013-05-30</td>\n",
       "      <td>15</td>\n",
       "    </tr>\n",
       "    <tr>\n",
       "      <th>2</th>\n",
       "      <td>27531.0</td>\n",
       "      <td>Riverside</td>\n",
       "      <td>33.709500</td>\n",
       "      <td>-116.728850</td>\n",
       "      <td>2013-07-15T13:43:00Z</td>\n",
       "      <td>2013-07-15</td>\n",
       "      <td>13</td>\n",
       "    </tr>\n",
       "    <tr>\n",
       "      <th>3</th>\n",
       "      <td>27440.0</td>\n",
       "      <td>Placer</td>\n",
       "      <td>39.120000</td>\n",
       "      <td>-120.650000</td>\n",
       "      <td>2013-08-10T16:30:00Z</td>\n",
       "      <td>2013-08-10</td>\n",
       "      <td>16</td>\n",
       "    </tr>\n",
       "    <tr>\n",
       "      <th>4</th>\n",
       "      <td>24251.0</td>\n",
       "      <td>Ventura</td>\n",
       "      <td>0.000000</td>\n",
       "      <td>0.000000</td>\n",
       "      <td>2013-05-02T07:01:00Z</td>\n",
       "      <td>2013-05-02</td>\n",
       "      <td>07</td>\n",
       "    </tr>\n",
       "  </tbody>\n",
       "</table>\n",
       "</div>"
      ],
      "text/plain": [
       "   AcresBurned     Counties   Latitude   Longitude               Started  \\\n",
       "0     257314.0     Tuolumne  37.857000 -120.086000  2013-08-17T15:25:00Z   \n",
       "1      30274.0  Los Angeles  34.585595 -118.423176  2013-05-30T15:28:00Z   \n",
       "2      27531.0    Riverside  33.709500 -116.728850  2013-07-15T13:43:00Z   \n",
       "3      27440.0       Placer  39.120000 -120.650000  2013-08-10T16:30:00Z   \n",
       "4      24251.0      Ventura   0.000000    0.000000  2013-05-02T07:01:00Z   \n",
       "\n",
       "  Started_Date Started_Hour  \n",
       "0   2013-08-17           15  \n",
       "1   2013-05-30           15  \n",
       "2   2013-07-15           13  \n",
       "3   2013-08-10           16  \n",
       "4   2013-05-02           07  "
      ]
     },
     "execution_count": 35,
     "metadata": {},
     "output_type": "execute_result"
    }
   ],
   "source": [
    "cwd = os.getcwd()\n",
    "wildfire_data_url = cwd + r\"\\Data\\California_Fire_Incidents.csv\"\n",
    "\n",
    "columns = ['AcresBurned', 'Counties', 'Latitude', 'Longitude', 'Started']\n",
    "\n",
    "wildfire_data = pd.read_csv(wildfire_data_url)\n",
    "wildfire_data = wildfire_data[columns]\n",
    "\n",
    "# Drop Nan Values (Should only be 3 in Acres Burned)\n",
    "wildfire_data = wildfire_data.dropna()\n",
    "\n",
    "# Drop Unwanted Counties Datapoints < 4\n",
    "counties = wildfire_data[\"Counties\"].unique()\n",
    "county_dataCount = [wildfire_data[wildfire_data[\"Counties\"] == county].shape[0] for county in wildfire_data[\"Counties\"].unique()]\n",
    "county_data = dict(zip(counties, county_dataCount))\n",
    "\n",
    "counties_toDrop = [county for county, count in county_data.items() if count < 4]\n",
    "wildfire_data = wildfire_data[~wildfire_data[\"Counties\"].isin(counties_toDrop)]\n",
    "\n",
    "# Might not have to cleanup Latitude and Longitude since API (from what I've tested uses location over lat/long)\n",
    "\n",
    "# Cleanup Date\n",
    "wildfire_data[\"Started_Date\"] = wildfire_data[\"Started\"].apply(lambda x: x[:10])\n",
    "wildfire_data[\"Started_Hour\"] = wildfire_data[\"Started\"].apply(lambda x: x[11:13])\n",
    "\n",
    "# Save Cleaned Data\n",
    "cleaned_wildfire_data_url = cwd + r\"\\Cleaned Data\\Cleaned_California_Fire_Incidents.csv\"\n",
    "wildfire_data.to_csv(cleaned_wildfire_data_url, index=False)\n",
    "\n",
    "wildfire_data.head()"
   ]
  },
  {
   "cell_type": "code",
   "execution_count": 52,
   "id": "9b9962be",
   "metadata": {},
   "outputs": [],
   "source": [
    "result = get_weather_data(request_args = (\"2013-08-17\", \"2013-08-17\", \"Tuolumne, CA\", 37.857, -120.086))"
   ]
  },
  {
   "cell_type": "code",
   "execution_count": 58,
   "id": "5586fd0d",
   "metadata": {},
   "outputs": [
    {
     "name": "stdout",
     "output_type": "stream",
     "text": [
      "<Response [200]>\n",
      "200\n",
      "{'attributes': {'processing_time': 6.3, 'n_parameter_months': 1, 'gfs_reference_time': '2022-04-18 18 UTC', 'next_gfs_update': 'in 0.5 hours (approx)', 'source': 'ERA5 (2018) from Copernicus Climate Data Store (CDS) and GFS v16 (Mar 2021) from National Centers for Environmental Prediction (NCEP)', 'notes': 'GFS forecast data is updated every 6 hours and ERA5/ERA5T reanalysis data is updated every 24 hours.'}, 'data': '{\"columns\":[\"coordinates (lat,lon)\",\"model (name)\",\"model elevation (surface)\",\"utc_offset (hrs)\",\"temperature (degC)\",\"relative_humidity (0-1)\",\"humidex_index (degC)\",\"wind_speed (m\\\\/s)\",\"wind_direction (deg)\",\"total_cloud_cover (0-1)\",\"sea_surface_temperature (degC)\",\"total_precipitation (mm of water equivalent)\",\"snowfall (mm of water equivalent)\"],\"index\":[1376697600,1376701200,1376704800,1376708400,1376712000,1376715600,1376719200,1376722800,1376726400,1376730000,1376733600,1376737200,1376740800,1376744400,1376748000,1376751600,1376755200,1376758800,1376762400,1376766000,1376769600,1376773200,1376776800,1376780400],\"data\":[[\"(37.857, -120.086)\",\"era5\",1064.86,-8.0,31.37,0.14,29.39,3.02,275.97,0.0,null,0.0,0.0],[\"(37.857, -120.086)\",\"era5\",1064.86,-8.0,30.68,0.14,28.6,2.94,283.3,0.0,null,0.0,0.0],[\"(37.857, -120.086)\",\"era5\",1064.86,-8.0,29.19,0.15,27.05,2.72,289.96,0.0,null,0.0,0.0],[\"(37.857, -120.086)\",\"era5\",1064.86,-8.0,24.64,0.27,23.73,2.13,309.8,0.0,null,0.0,0.0],[\"(37.857, -120.086)\",\"era5\",1064.86,-8.0,23.36,0.29,22.37,1.6,355.27,0.0,null,0.0,0.0],[\"(37.857, -120.086)\",\"era5\",1064.86,-8.0,20.51,0.34,19.44,1.28,31.46,0.0,null,0.0,0.0],[\"(37.857, -120.086)\",\"era5\",1064.86,-8.0,19.53,0.32,18.01,1.3,46.32,0.0,null,0.0,0.0],[\"(37.857, -120.086)\",\"era5\",1064.86,-8.0,17.88,0.33,16.12,1.39,53.33,0.0,null,0.0,0.0],[\"(37.857, -120.086)\",\"era5\",1064.86,-8.0,16.92,0.38,15.38,1.29,54.18,0.01,null,0.0,0.0],[\"(37.857, -120.086)\",\"era5\",1064.86,-8.0,15.69,0.39,13.98,1.22,54.19,0.01,null,0.0,0.0],[\"(37.857, -120.086)\",\"era5\",1064.86,-8.0,15.35,0.38,13.45,1.84,59.48,0.15,null,0.0,0.0],[\"(37.857, -120.086)\",\"era5\",1064.86,-8.0,15.25,0.39,13.4,1.18,56.94,0.3,null,0.0,0.0],[\"(37.857, -120.086)\",\"era5\",1064.86,-8.0,15.17,0.38,13.29,0.65,52.38,0.37,null,0.0,0.0],[\"(37.857, -120.086)\",\"era5\",1064.86,-8.0,15.03,0.38,13.07,1.23,57.11,0.04,null,0.0,0.0],[\"(37.857, -120.086)\",\"era5\",1064.86,-8.0,15.45,0.4,13.74,1.27,58.37,0.07,null,0.0,0.0],[\"(37.857, -120.086)\",\"era5\",1064.86,-8.0,21.2,0.28,19.54,1.16,60.28,0.0,null,0.0,0.0],[\"(37.857, -120.086)\",\"era5\",1064.86,-8.0,26.52,0.17,24.29,0.55,263.56,0.0,null,0.0,0.0],[\"(37.857, -120.086)\",\"era5\",1064.86,-8.0,28.69,0.17,26.79,1.48,263.17,0.08,null,0.01,0.0],[\"(37.857, -120.086)\",\"era5\",1064.86,-8.0,29.65,0.14,27.42,2.25,259.53,0.21,null,0.0,0.0],[\"(37.857, -120.086)\",\"era5\",1064.86,-8.0,29.44,0.16,27.56,3.04,258.88,0.22,null,0.0,0.0],[\"(37.857, -120.086)\",\"era5\",1064.86,-8.0,29.68,0.18,28.28,3.43,260.82,0.13,null,0.0,0.0],[\"(37.857, -120.086)\",\"era5\",1064.86,-8.0,30.59,0.13,28.09,3.57,262.85,0.2,null,0.0,0.0],[\"(37.857, -120.086)\",\"era5\",1064.86,-8.0,30.06,0.17,28.58,4.03,275.49,0.15,null,0.0,0.0],[\"(37.857, -120.086)\",\"era5\",1064.86,-8.0,29.77,0.18,28.36,3.55,287.43,0.3,null,0.02,0.0]]}'}\n",
      "<class 'dict'>\n"
     ]
    }
   ],
   "source": [
    "print(result)\n",
    "print(result.status_code)\n",
    "print(result.json())\n",
    "print(type(result.json()))"
   ]
  },
  {
   "cell_type": "code",
   "execution_count": null,
   "id": "81112725",
   "metadata": {},
   "outputs": [],
   "source": []
  },
  {
   "cell_type": "code",
   "execution_count": 51,
   "id": "48bba812",
   "metadata": {},
   "outputs": [],
   "source": [
    "import requests\n",
    "\n",
    "def get_weather_data(\n",
    "    param_args=['temperature', 'relative_humidity', 'humidex_index', 'wind_speed', 'wind_direction', \n",
    "                'total_cloud_cover', 'total_precipitation', 'snowfall'],\n",
    "    request_args = (\"start\", \"end\", \"location\", \"lat\", \"lon\")\n",
    "):\n",
    "    api_url = \"https://api.oikolab.com/weather\"\n",
    "    start, end, location, lat, lon = request_args\n",
    "    \n",
    "    request_params = {\n",
    "        \"param\": param_args,\n",
    "        \"start\": start,\n",
    "        \"end\": end,\n",
    "        \"location\": location,\n",
    "        \"lat\": lat,\n",
    "        \"lon\": lon,\n",
    "        \"api-key\": os.getenv('API_KEYasdfasdf'),\n",
    "    }\n",
    "    result = requests.get(\n",
    "        api_url,\n",
    "        params=request_params\n",
    "    )\n",
    "    \n",
    "    return result"
   ]
  },
  {
   "cell_type": "code",
   "execution_count": null,
   "id": "2db21a62",
   "metadata": {},
   "outputs": [],
   "source": []
  }
 ],
 "metadata": {
  "kernelspec": {
   "display_name": "Python 3 (ipykernel)",
   "language": "python",
   "name": "python3"
  },
  "language_info": {
   "codemirror_mode": {
    "name": "ipython",
    "version": 3
   },
   "file_extension": ".py",
   "mimetype": "text/x-python",
   "name": "python",
   "nbconvert_exporter": "python",
   "pygments_lexer": "ipython3",
   "version": "3.9.7"
  }
 },
 "nbformat": 4,
 "nbformat_minor": 5
}
